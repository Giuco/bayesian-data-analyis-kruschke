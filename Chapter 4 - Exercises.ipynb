{
 "cells": [
  {
   "cell_type": "code",
   "execution_count": 1,
   "metadata": {},
   "outputs": [],
   "source": [
    "import pandas as pd\n",
    "import numpy as np\n",
    "import matplotlib.pyplot as plt"
   ]
  },
  {
   "cell_type": "markdown",
   "metadata": {},
   "source": [
    "## Exercise 1"
   ]
  },
  {
   "cell_type": "markdown",
   "metadata": {},
   "source": [
    "**Purpose: To gain experience with the apply function in R, while dealing with a concrete example of computing conditional probabilities.**\n",
    "\n",
    "The eye-color hair-color data from Table 4.1 are built into R as the array named HairEyeColor. The array is frequencies of eye and hair color for males and females. Run the following code in R:\n",
    "\n",
    "```\n",
    "show( HairEyeColor ) # Show data\n",
    "EyeHairFreq = apply( HairEyeColor, c(\"Eye\",\"Hair\"), sum ) # Sum across sex\n",
    "EyeHairProp = EyeHairFreq / sum( EyeHairFreq ) # joint proportions, Table 4.1\n",
    "show( round( EyeHairProp , 2 ) )\n",
    "HairFreq = apply( HairEyeColor , c(\"Hair\") , sum ) # Sum across sex and eye\n",
    "HairProp = HairFreq / sum( HairFreq ) # marginal proportions, Table 4.1\n",
    "show( round( HairProp , 2 ) )\n",
    "EyeFreq = apply( HairEyeColor , c(\"Eye\") , sum ) # Sum across sex and eye\n",
    "EyeProp = EyeFreq / sum( EyeFreq ) # marginal proportions, Table 4.1\n",
    "show( round( EyeProp , 2 ) )\n",
    "EyeHairProp[\"Blue\",] / EyeProp[\"Blue\"] # conditional prob, Table 4.2\n",
    "```\n",
    "\n",
    "In your write-up, include each line above and its results. Explain what each line does (in a bit more detail than the inline comments). Extend the above commands by also computing the probabilities of the hair colors given Brown eyes, and the probabilities of the eye colors given Brown hair"
   ]
  },
  {
   "cell_type": "markdown",
   "metadata": {},
   "source": [
    "*I will adapt the above R code to python code.*"
   ]
  },
  {
   "cell_type": "code",
   "execution_count": 2,
   "metadata": {},
   "outputs": [
    {
     "data": {
      "text/html": [
       "<div>\n",
       "<style scoped>\n",
       "    .dataframe tbody tr th:only-of-type {\n",
       "        vertical-align: middle;\n",
       "    }\n",
       "\n",
       "    .dataframe tbody tr th {\n",
       "        vertical-align: top;\n",
       "    }\n",
       "\n",
       "    .dataframe thead th {\n",
       "        text-align: right;\n",
       "    }\n",
       "</style>\n",
       "<table border=\"1\" class=\"dataframe\">\n",
       "  <thead>\n",
       "    <tr style=\"text-align: right;\">\n",
       "      <th></th>\n",
       "      <th>Hair</th>\n",
       "      <th>Eye</th>\n",
       "      <th>Sex</th>\n",
       "      <th>Freq</th>\n",
       "    </tr>\n",
       "  </thead>\n",
       "  <tbody>\n",
       "    <tr>\n",
       "      <td>1</td>\n",
       "      <td>Black</td>\n",
       "      <td>Brown</td>\n",
       "      <td>Male</td>\n",
       "      <td>32</td>\n",
       "    </tr>\n",
       "    <tr>\n",
       "      <td>2</td>\n",
       "      <td>Brown</td>\n",
       "      <td>Brown</td>\n",
       "      <td>Male</td>\n",
       "      <td>53</td>\n",
       "    </tr>\n",
       "    <tr>\n",
       "      <td>3</td>\n",
       "      <td>Red</td>\n",
       "      <td>Brown</td>\n",
       "      <td>Male</td>\n",
       "      <td>10</td>\n",
       "    </tr>\n",
       "    <tr>\n",
       "      <td>4</td>\n",
       "      <td>Blond</td>\n",
       "      <td>Brown</td>\n",
       "      <td>Male</td>\n",
       "      <td>3</td>\n",
       "    </tr>\n",
       "    <tr>\n",
       "      <td>5</td>\n",
       "      <td>Black</td>\n",
       "      <td>Blue</td>\n",
       "      <td>Male</td>\n",
       "      <td>11</td>\n",
       "    </tr>\n",
       "  </tbody>\n",
       "</table>\n",
       "</div>"
      ],
      "text/plain": [
       "    Hair    Eye   Sex  Freq\n",
       "1  Black  Brown  Male    32\n",
       "2  Brown  Brown  Male    53\n",
       "3    Red  Brown  Male    10\n",
       "4  Blond  Brown  Male     3\n",
       "5  Black   Blue  Male    11"
      ]
     },
     "execution_count": 2,
     "metadata": {},
     "output_type": "execute_result"
    }
   ],
   "source": [
    "hair_eye_color = pd.read_csv(\"./data/hair_eye_color.csv\", index_col=0)\n",
    "hair_eye_color.head()"
   ]
  },
  {
   "cell_type": "markdown",
   "metadata": {},
   "source": [
    "```\n",
    "EyeHairFreq = apply( HairEyeColor, c(\"Eye\",\"Hair\"), sum ) # Sum across sex\n",
    "EyeHairProp = EyeHairFreq / sum( EyeHairFreq ) # joint proportions, Table 4.1\n",
    "show( round( EyeHairProp , 2 ) )\n",
    "````"
   ]
  },
  {
   "cell_type": "code",
   "execution_count": 3,
   "metadata": {},
   "outputs": [
    {
     "data": {
      "text/html": [
       "<div>\n",
       "<style scoped>\n",
       "    .dataframe tbody tr th:only-of-type {\n",
       "        vertical-align: middle;\n",
       "    }\n",
       "\n",
       "    .dataframe tbody tr th {\n",
       "        vertical-align: top;\n",
       "    }\n",
       "\n",
       "    .dataframe thead th {\n",
       "        text-align: right;\n",
       "    }\n",
       "</style>\n",
       "<table border=\"1\" class=\"dataframe\">\n",
       "  <thead>\n",
       "    <tr style=\"text-align: right;\">\n",
       "      <th>Hair</th>\n",
       "      <th>Black</th>\n",
       "      <th>Blond</th>\n",
       "      <th>Brown</th>\n",
       "      <th>Red</th>\n",
       "    </tr>\n",
       "    <tr>\n",
       "      <th>Eye</th>\n",
       "      <th></th>\n",
       "      <th></th>\n",
       "      <th></th>\n",
       "      <th></th>\n",
       "    </tr>\n",
       "  </thead>\n",
       "  <tbody>\n",
       "    <tr>\n",
       "      <td>Blue</td>\n",
       "      <td>0.03</td>\n",
       "      <td>0.16</td>\n",
       "      <td>0.14</td>\n",
       "      <td>0.03</td>\n",
       "    </tr>\n",
       "    <tr>\n",
       "      <td>Brown</td>\n",
       "      <td>0.11</td>\n",
       "      <td>0.01</td>\n",
       "      <td>0.20</td>\n",
       "      <td>0.04</td>\n",
       "    </tr>\n",
       "    <tr>\n",
       "      <td>Green</td>\n",
       "      <td>0.01</td>\n",
       "      <td>0.03</td>\n",
       "      <td>0.05</td>\n",
       "      <td>0.02</td>\n",
       "    </tr>\n",
       "    <tr>\n",
       "      <td>Hazel</td>\n",
       "      <td>0.03</td>\n",
       "      <td>0.02</td>\n",
       "      <td>0.09</td>\n",
       "      <td>0.02</td>\n",
       "    </tr>\n",
       "  </tbody>\n",
       "</table>\n",
       "</div>"
      ],
      "text/plain": [
       "Hair   Black  Blond  Brown   Red\n",
       "Eye                             \n",
       "Blue    0.03   0.16   0.14  0.03\n",
       "Brown   0.11   0.01   0.20  0.04\n",
       "Green   0.01   0.03   0.05  0.02\n",
       "Hazel   0.03   0.02   0.09  0.02"
      ]
     },
     "execution_count": 3,
     "metadata": {},
     "output_type": "execute_result"
    }
   ],
   "source": [
    "hair_eye_freq = hair_eye_color.groupby([\"Hair\", \"Eye\"]).agg(\"sum\") # Removing `Sex` variable\n",
    "hair_eye_freq[\"Prop\"] = np.round(hair_eye_freq[\"Freq\"] / hair_eye_freq[\"Freq\"].sum(), 3) # Creating *proportion* column\n",
    "hair_eye_freq.reset_index().pivot(index=\"Eye\", columns=\"Hair\", values=\"Prop\") # Pivoting here just to visualize better"
   ]
  },
  {
   "cell_type": "markdown",
   "metadata": {},
   "source": [
    "```\n",
    "HairFreq = apply( HairEyeColor , c(\"Hair\") , sum ) # Sum across sex and eye\n",
    "HairProp = HairFreq / sum( HairFreq ) # marginal proportions, Table 4.1\n",
    "show( round( HairProp , 2 ) )\n",
    "```"
   ]
  },
  {
   "cell_type": "code",
   "execution_count": 4,
   "metadata": {},
   "outputs": [
    {
     "data": {
      "text/html": [
       "<div>\n",
       "<style scoped>\n",
       "    .dataframe tbody tr th:only-of-type {\n",
       "        vertical-align: middle;\n",
       "    }\n",
       "\n",
       "    .dataframe tbody tr th {\n",
       "        vertical-align: top;\n",
       "    }\n",
       "\n",
       "    .dataframe thead th {\n",
       "        text-align: right;\n",
       "    }\n",
       "</style>\n",
       "<table border=\"1\" class=\"dataframe\">\n",
       "  <thead>\n",
       "    <tr style=\"text-align: right;\">\n",
       "      <th></th>\n",
       "      <th>Freq</th>\n",
       "      <th>Prop</th>\n",
       "    </tr>\n",
       "    <tr>\n",
       "      <th>Hair</th>\n",
       "      <th></th>\n",
       "      <th></th>\n",
       "    </tr>\n",
       "  </thead>\n",
       "  <tbody>\n",
       "    <tr>\n",
       "      <td>Black</td>\n",
       "      <td>108</td>\n",
       "      <td>0.18</td>\n",
       "    </tr>\n",
       "    <tr>\n",
       "      <td>Blond</td>\n",
       "      <td>127</td>\n",
       "      <td>0.21</td>\n",
       "    </tr>\n",
       "    <tr>\n",
       "      <td>Brown</td>\n",
       "      <td>286</td>\n",
       "      <td>0.48</td>\n",
       "    </tr>\n",
       "    <tr>\n",
       "      <td>Red</td>\n",
       "      <td>71</td>\n",
       "      <td>0.12</td>\n",
       "    </tr>\n",
       "  </tbody>\n",
       "</table>\n",
       "</div>"
      ],
      "text/plain": [
       "       Freq  Prop\n",
       "Hair             \n",
       "Black   108  0.18\n",
       "Blond   127  0.21\n",
       "Brown   286  0.48\n",
       "Red      71  0.12"
      ]
     },
     "execution_count": 4,
     "metadata": {},
     "output_type": "execute_result"
    }
   ],
   "source": [
    "hair_freq = hair_eye_color.groupby(\"Hair\").sum() # Grouping by hair\n",
    "hair_freq[\"Prop\"] = np.round(hair_freq[\"Freq\"] / hair_freq[\"Freq\"].sum(), 3) # Getting the hair proportion\n",
    "\n",
    "hair_freq"
   ]
  },
  {
   "cell_type": "markdown",
   "metadata": {},
   "source": [
    "```\n",
    "EyeFreq = apply( HairEyeColor , c(\"Eye\") , sum ) # Sum across sex and eye\n",
    "EyeProp = EyeFreq / sum( EyeFreq ) # marginal proportions, Table 4.1\n",
    "show( round( EyeProp , 2 ) )\n",
    "```"
   ]
  },
  {
   "cell_type": "code",
   "execution_count": 5,
   "metadata": {},
   "outputs": [
    {
     "data": {
      "text/html": [
       "<div>\n",
       "<style scoped>\n",
       "    .dataframe tbody tr th:only-of-type {\n",
       "        vertical-align: middle;\n",
       "    }\n",
       "\n",
       "    .dataframe tbody tr th {\n",
       "        vertical-align: top;\n",
       "    }\n",
       "\n",
       "    .dataframe thead th {\n",
       "        text-align: right;\n",
       "    }\n",
       "</style>\n",
       "<table border=\"1\" class=\"dataframe\">\n",
       "  <thead>\n",
       "    <tr style=\"text-align: right;\">\n",
       "      <th></th>\n",
       "      <th>Freq</th>\n",
       "      <th>Prop</th>\n",
       "    </tr>\n",
       "    <tr>\n",
       "      <th>Eye</th>\n",
       "      <th></th>\n",
       "      <th></th>\n",
       "    </tr>\n",
       "  </thead>\n",
       "  <tbody>\n",
       "    <tr>\n",
       "      <td>Blue</td>\n",
       "      <td>215</td>\n",
       "      <td>0.36</td>\n",
       "    </tr>\n",
       "    <tr>\n",
       "      <td>Brown</td>\n",
       "      <td>220</td>\n",
       "      <td>0.37</td>\n",
       "    </tr>\n",
       "    <tr>\n",
       "      <td>Green</td>\n",
       "      <td>64</td>\n",
       "      <td>0.11</td>\n",
       "    </tr>\n",
       "    <tr>\n",
       "      <td>Hazel</td>\n",
       "      <td>93</td>\n",
       "      <td>0.16</td>\n",
       "    </tr>\n",
       "  </tbody>\n",
       "</table>\n",
       "</div>"
      ],
      "text/plain": [
       "       Freq  Prop\n",
       "Eye              \n",
       "Blue    215  0.36\n",
       "Brown   220  0.37\n",
       "Green    64  0.11\n",
       "Hazel    93  0.16"
      ]
     },
     "execution_count": 5,
     "metadata": {},
     "output_type": "execute_result"
    }
   ],
   "source": [
    "eye_freq = hair_eye_color.groupby(\"Eye\").sum() # Grouping by eye\n",
    "eye_freq[\"Prop\"] = np.round(eye_freq[\"Freq\"] / eye_freq[\"Freq\"].sum(), 3) # Getting the eye proportion\n",
    "\n",
    "eye_freq"
   ]
  },
  {
   "cell_type": "markdown",
   "metadata": {},
   "source": [
    "```\n",
    "EyeHairProp[\"Blue\",] / EyeProp[\"Blue\"] # conditional prob, Table 4.2\n",
    "```\n",
    "\n",
    "\n",
    "Here we get the conditional probability for hair colors given blue eyes\n",
    "\n",
    "\n",
    "$p(h|e=blue)$"
   ]
  },
  {
   "cell_type": "code",
   "execution_count": 6,
   "metadata": {},
   "outputs": [
    {
     "data": {
      "text/html": [
       "<div>\n",
       "<style scoped>\n",
       "    .dataframe tbody tr th:only-of-type {\n",
       "        vertical-align: middle;\n",
       "    }\n",
       "\n",
       "    .dataframe tbody tr th {\n",
       "        vertical-align: top;\n",
       "    }\n",
       "\n",
       "    .dataframe thead th {\n",
       "        text-align: right;\n",
       "    }\n",
       "</style>\n",
       "<table border=\"1\" class=\"dataframe\">\n",
       "  <thead>\n",
       "    <tr style=\"text-align: right;\">\n",
       "      <th>Hair</th>\n",
       "      <th>Black</th>\n",
       "      <th>Blond</th>\n",
       "      <th>Brown</th>\n",
       "      <th>Red</th>\n",
       "    </tr>\n",
       "    <tr>\n",
       "      <th>Eye</th>\n",
       "      <th></th>\n",
       "      <th></th>\n",
       "      <th></th>\n",
       "      <th></th>\n",
       "    </tr>\n",
       "  </thead>\n",
       "  <tbody>\n",
       "    <tr>\n",
       "      <td>Blue</td>\n",
       "      <td>0.08</td>\n",
       "      <td>0.44</td>\n",
       "      <td>0.39</td>\n",
       "      <td>0.08</td>\n",
       "    </tr>\n",
       "  </tbody>\n",
       "</table>\n",
       "</div>"
      ],
      "text/plain": [
       "Hair  Black  Blond  Brown   Red\n",
       "Eye                            \n",
       "Blue   0.08   0.44   0.39  0.08"
      ]
     },
     "execution_count": 6,
     "metadata": {},
     "output_type": "execute_result"
    }
   ],
   "source": [
    "blue_eye_prop = hair_eye_freq.loc(axis=0)[:, \"Blue\"][[\"Prop\"]] # Getting hair proportions joint to blue eyes\n",
    "hair_conditial_blue_eye = blue_eye_prop / blue_eye_prop.sum() # Conditional prop given blue eyes\n",
    "\n",
    "np.round(hair_conditial_blue_eye, 3).reset_index().pivot(\"Eye\", \"Hair\", \"Prop\") # Pivoting to visualize"
   ]
  },
  {
   "cell_type": "markdown",
   "metadata": {},
   "source": [
    "$p(h|e=brown)$"
   ]
  },
  {
   "cell_type": "code",
   "execution_count": 7,
   "metadata": {},
   "outputs": [
    {
     "data": {
      "text/html": [
       "<div>\n",
       "<style scoped>\n",
       "    .dataframe tbody tr th:only-of-type {\n",
       "        vertical-align: middle;\n",
       "    }\n",
       "\n",
       "    .dataframe tbody tr th {\n",
       "        vertical-align: top;\n",
       "    }\n",
       "\n",
       "    .dataframe thead th {\n",
       "        text-align: right;\n",
       "    }\n",
       "</style>\n",
       "<table border=\"1\" class=\"dataframe\">\n",
       "  <thead>\n",
       "    <tr style=\"text-align: right;\">\n",
       "      <th>Hair</th>\n",
       "      <th>Black</th>\n",
       "      <th>Blond</th>\n",
       "      <th>Brown</th>\n",
       "      <th>Red</th>\n",
       "    </tr>\n",
       "    <tr>\n",
       "      <th>Eye</th>\n",
       "      <th></th>\n",
       "      <th></th>\n",
       "      <th></th>\n",
       "      <th></th>\n",
       "    </tr>\n",
       "  </thead>\n",
       "  <tbody>\n",
       "    <tr>\n",
       "      <td>Brown</td>\n",
       "      <td>0.31</td>\n",
       "      <td>0.03</td>\n",
       "      <td>0.56</td>\n",
       "      <td>0.11</td>\n",
       "    </tr>\n",
       "  </tbody>\n",
       "</table>\n",
       "</div>"
      ],
      "text/plain": [
       "Hair   Black  Blond  Brown   Red\n",
       "Eye                             \n",
       "Brown   0.31   0.03   0.56  0.11"
      ]
     },
     "execution_count": 7,
     "metadata": {},
     "output_type": "execute_result"
    }
   ],
   "source": [
    "brown_eye_prop = hair_eye_freq.loc(axis=0)[:, \"Brown\"][[\"Prop\"]] # Getting hair proportions joint to brown eyes\n",
    "hair_conditial_brown_eye = brown_eye_prop / brown_eye_prop.sum() # Conditional prop given brown eyes\n",
    "\n",
    "np.round(hair_conditial_brown_eye, 3).reset_index().pivot(\"Eye\", \"Hair\", \"Prop\") # Pivoting to visualize"
   ]
  },
  {
   "cell_type": "markdown",
   "metadata": {},
   "source": [
    "$p(e|h=brown)$"
   ]
  },
  {
   "cell_type": "code",
   "execution_count": 26,
   "metadata": {},
   "outputs": [
    {
     "data": {
      "text/html": [
       "<div>\n",
       "<style scoped>\n",
       "    .dataframe tbody tr th:only-of-type {\n",
       "        vertical-align: middle;\n",
       "    }\n",
       "\n",
       "    .dataframe tbody tr th {\n",
       "        vertical-align: top;\n",
       "    }\n",
       "\n",
       "    .dataframe thead th {\n",
       "        text-align: right;\n",
       "    }\n",
       "</style>\n",
       "<table border=\"1\" class=\"dataframe\">\n",
       "  <thead>\n",
       "    <tr style=\"text-align: right;\">\n",
       "      <th>Eye</th>\n",
       "      <th>Blue</th>\n",
       "      <th>Brown</th>\n",
       "      <th>Green</th>\n",
       "      <th>Hazel</th>\n",
       "    </tr>\n",
       "    <tr>\n",
       "      <th>Hair</th>\n",
       "      <th></th>\n",
       "      <th></th>\n",
       "      <th></th>\n",
       "      <th></th>\n",
       "    </tr>\n",
       "  </thead>\n",
       "  <tbody>\n",
       "    <tr>\n",
       "      <td>Brown</td>\n",
       "      <td>0.292</td>\n",
       "      <td>0.417</td>\n",
       "      <td>0.104</td>\n",
       "      <td>0.188</td>\n",
       "    </tr>\n",
       "  </tbody>\n",
       "</table>\n",
       "</div>"
      ],
      "text/plain": [
       "Eye     Blue  Brown  Green  Hazel\n",
       "Hair                             \n",
       "Brown  0.292  0.417  0.104  0.188"
      ]
     },
     "execution_count": 26,
     "metadata": {},
     "output_type": "execute_result"
    }
   ],
   "source": [
    "brown_hair_prop = hair_eye_freq.loc(axis=0)[\"Brown\", :][[\"Prop\"]]\n",
    "eye_conditional_brown_hair = brown_hair_prop / brown_hair_prop.sum()\n",
    "\n",
    "np.round(eye_conditional_brown_hair, 3).reset_index().pivot(\"Hair\", \"Eye\", \"Prop\")"
   ]
  },
  {
   "cell_type": "markdown",
   "metadata": {},
   "source": [
    "I'll extend the scope of the exercise a little bit, calculating all the possible $p(e|h)$ and all possible $p(h|e)$"
   ]
  },
  {
   "cell_type": "code",
   "execution_count": 22,
   "metadata": {},
   "outputs": [
    {
     "data": {
      "text/html": [
       "<div>\n",
       "<style scoped>\n",
       "    .dataframe tbody tr th:only-of-type {\n",
       "        vertical-align: middle;\n",
       "    }\n",
       "\n",
       "    .dataframe tbody tr th {\n",
       "        vertical-align: top;\n",
       "    }\n",
       "\n",
       "    .dataframe thead th {\n",
       "        text-align: right;\n",
       "    }\n",
       "</style>\n",
       "<table border=\"1\" class=\"dataframe\">\n",
       "  <thead>\n",
       "    <tr style=\"text-align: right;\">\n",
       "      <th>Hair</th>\n",
       "      <th>Black</th>\n",
       "      <th>Blond</th>\n",
       "      <th>Brown</th>\n",
       "      <th>Red</th>\n",
       "    </tr>\n",
       "    <tr>\n",
       "      <th>Eye</th>\n",
       "      <th></th>\n",
       "      <th></th>\n",
       "      <th></th>\n",
       "      <th></th>\n",
       "    </tr>\n",
       "  </thead>\n",
       "  <tbody>\n",
       "    <tr>\n",
       "      <td>Blue</td>\n",
       "      <td>0.083</td>\n",
       "      <td>0.444</td>\n",
       "      <td>0.389</td>\n",
       "      <td>0.083</td>\n",
       "    </tr>\n",
       "    <tr>\n",
       "      <td>Brown</td>\n",
       "      <td>0.297</td>\n",
       "      <td>0.027</td>\n",
       "      <td>0.541</td>\n",
       "      <td>0.108</td>\n",
       "    </tr>\n",
       "    <tr>\n",
       "      <td>Green</td>\n",
       "      <td>0.091</td>\n",
       "      <td>0.273</td>\n",
       "      <td>0.455</td>\n",
       "      <td>0.182</td>\n",
       "    </tr>\n",
       "    <tr>\n",
       "      <td>Hazel</td>\n",
       "      <td>0.188</td>\n",
       "      <td>0.125</td>\n",
       "      <td>0.562</td>\n",
       "      <td>0.125</td>\n",
       "    </tr>\n",
       "  </tbody>\n",
       "</table>\n",
       "</div>"
      ],
      "text/plain": [
       "Hair   Black  Blond  Brown    Red\n",
       "Eye                              \n",
       "Blue   0.083  0.444  0.389  0.083\n",
       "Brown  0.297  0.027  0.541  0.108\n",
       "Green  0.091  0.273  0.455  0.182\n",
       "Hazel  0.188  0.125  0.562  0.125"
      ]
     },
     "execution_count": 22,
     "metadata": {},
     "output_type": "execute_result"
    }
   ],
   "source": [
    "hair_given_eye = hair_eye_freq.join(eye_freq, on=\"Eye\", lsuffix=\"HairEye\", rsuffix=\"Eye\")\n",
    "hair_given_eye[\"Conditional\"] = np.round(hair_given_eye[\"PropHairEye\"] / hair_given_eye[\"PropEye\"], 3)\n",
    "\n",
    "hair_given_eye.reset_index().pivot(\"Eye\", \"Hair\", \"Conditional\")"
   ]
  },
  {
   "cell_type": "code",
   "execution_count": 29,
   "metadata": {},
   "outputs": [
    {
     "data": {
      "text/html": [
       "<div>\n",
       "<style scoped>\n",
       "    .dataframe tbody tr th:only-of-type {\n",
       "        vertical-align: middle;\n",
       "    }\n",
       "\n",
       "    .dataframe tbody tr th {\n",
       "        vertical-align: top;\n",
       "    }\n",
       "\n",
       "    .dataframe thead th {\n",
       "        text-align: right;\n",
       "    }\n",
       "</style>\n",
       "<table border=\"1\" class=\"dataframe\">\n",
       "  <thead>\n",
       "    <tr style=\"text-align: right;\">\n",
       "      <th>Eye</th>\n",
       "      <th>Blue</th>\n",
       "      <th>Brown</th>\n",
       "      <th>Green</th>\n",
       "      <th>Hazel</th>\n",
       "    </tr>\n",
       "    <tr>\n",
       "      <th>Hair</th>\n",
       "      <th></th>\n",
       "      <th></th>\n",
       "      <th></th>\n",
       "      <th></th>\n",
       "    </tr>\n",
       "  </thead>\n",
       "  <tbody>\n",
       "    <tr>\n",
       "      <td>Black</td>\n",
       "      <td>0.167</td>\n",
       "      <td>0.611</td>\n",
       "      <td>0.056</td>\n",
       "      <td>0.167</td>\n",
       "    </tr>\n",
       "    <tr>\n",
       "      <td>Blond</td>\n",
       "      <td>0.762</td>\n",
       "      <td>0.048</td>\n",
       "      <td>0.143</td>\n",
       "      <td>0.095</td>\n",
       "    </tr>\n",
       "    <tr>\n",
       "      <td>Brown</td>\n",
       "      <td>0.292</td>\n",
       "      <td>0.417</td>\n",
       "      <td>0.104</td>\n",
       "      <td>0.188</td>\n",
       "    </tr>\n",
       "    <tr>\n",
       "      <td>Red</td>\n",
       "      <td>0.250</td>\n",
       "      <td>0.333</td>\n",
       "      <td>0.167</td>\n",
       "      <td>0.167</td>\n",
       "    </tr>\n",
       "  </tbody>\n",
       "</table>\n",
       "</div>"
      ],
      "text/plain": [
       "Eye     Blue  Brown  Green  Hazel\n",
       "Hair                             \n",
       "Black  0.167  0.611  0.056  0.167\n",
       "Blond  0.762  0.048  0.143  0.095\n",
       "Brown  0.292  0.417  0.104  0.188\n",
       "Red    0.250  0.333  0.167  0.167"
      ]
     },
     "execution_count": 29,
     "metadata": {},
     "output_type": "execute_result"
    }
   ],
   "source": [
    "eye_given_hair = hair_eye_freq.join(hair_freq, on=\"Hair\", lsuffix=\"HairEye\", rsuffix=\"Hair\")\n",
    "eye_given_hair[\"Conditional\"] = np.round(eye_given_hair[\"PropHairEye\"] / eye_given_hair[\"PropHair\"], 3)\n",
    "\n",
    "eye_given_hair.reset_index().pivot(\"Hair\", \"Eye\", \"Conditional\")"
   ]
  },
  {
   "cell_type": "markdown",
   "metadata": {},
   "source": [
    "## Exercise 2"
   ]
  },
  {
   "cell_type": "markdown",
   "metadata": {},
   "source": [
    "**Purpose: To give you some experience with random number generation in R.**\n",
    "\n",
    "Modify the coin flipping program in Section 4.5 RunningProportion.R to simulate a biased coin that has p(H) = 0.8. Change the height of the reference line in the plot to match p(H). Comment your code. Hint: Read the help for the sample command."
   ]
  },
  {
   "cell_type": "code",
   "execution_count": 30,
   "metadata": {},
   "outputs": [],
   "source": [
    "np.random.seed(123)"
   ]
  },
  {
   "cell_type": "code",
   "execution_count": 38,
   "metadata": {},
   "outputs": [],
   "source": [
    "N = 100000\n",
    "\n",
    "coin_tosses = (np.random.random_sample(N) < 0.8).astype(\"int\")\n",
    "cummean = np.cumsum(coin_tosses) / np.arange(1, N + 1)"
   ]
  },
  {
   "cell_type": "code",
   "execution_count": 39,
   "metadata": {},
   "outputs": [
    {
     "data": {
      "image/png": "[encoded data removed]",
      "text/plain": [
       "<Figure size 432x288 with 1 Axes>"
      ]
     },
     "metadata": {
      "needs_background": "light"
     },
     "output_type": "display_data"
    }
   ],
   "source": [
    "fig, ax = plt.subplots()\n",
    "\n",
    "ax.semilogx(np.arange(1, N+1), cummean)\n",
    "ax.axhline(0.5, color=\"r\", linestyle=\"--\")\n",
    "ax.axhline(0.8, color=\"r\", linestyle=\"--\")\n",
    "plt.ylim((0, 1))\n",
    "plt.title(\"Running proportion of heads\")\n",
    "ax.text(0.45, 0.95, f\"Final proportion: {cummean[-1]}\", transform=ax.transAxes, fontsize=14, verticalalignment='top')\n",
    "plt.xlabel(\"Flip Number\")\n",
    "plt.ylabel(\"Proportion Heads\")\n",
    "\n",
    "plt.show()"
   ]
  },
  {
   "cell_type": "markdown",
   "metadata": {},
   "source": [
    "## Exercise 3\n",
    "\n",
    "**Purpose: To have you work through an example of the logic presented in Section 4.2.1.2.**\n",
    "\n",
    "Determine the exact probability of drawing a 10 from a shuffled pinochle deck. (In a pinochle deck, there are 48 cards. There are six values: 9, 10, Jack, Queen, King, Ace. There are two copies of each value in each of the standard four suits: hearts, diamonds, clubs, spades.)\n",
    "\n",
    "**(A)** What is the probability of getting a 10?\n",
    "\n",
    "**(B)** What is the probability of getting a 10 or Jack?"
   ]
  },
  {
   "cell_type": "code",
   "execution_count": 48,
   "metadata": {},
   "outputs": [
    {
     "name": "stdout",
     "output_type": "stream",
     "text": [
      "(A): 0.167\n",
      "(B): 0.333\n"
     ]
    }
   ],
   "source": [
    "a = (2*4) / 48\n",
    "print(f\"(A): {a:.3f}\")\n",
    "b = 2 * a\n",
    "print(f\"(B): {b:.3f}\")"
   ]
  }
 ],
 "metadata": {
  "kernelspec": {
   "display_name": "Python 3",
   "language": "python",
   "name": "python3"
  },
  "language_info": {
   "codemirror_mode": {
    "name": "ipython",
    "version": 3
   },
   "file_extension": ".py",
   "mimetype": "text/x-python",
   "name": "python",
   "nbconvert_exporter": "python",
   "pygments_lexer": "ipython3",
   "version": "3.7.4"
  }
 },
 "nbformat": 4,
 "nbformat_minor": 4
}
