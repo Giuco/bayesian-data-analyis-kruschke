{
 "cells": [
  {
   "cell_type": "code",
   "execution_count": 2,
   "metadata": {},
   "outputs": [],
   "source": [
    "import pandas as pd\n",
    "import numpy as np\n",
    "import matplotlib.pyplot as plt"
   ]
  },
  {
   "cell_type": "markdown",
   "metadata": {},
   "source": [
    "## Exercise 1"
   ]
  },
  {
   "cell_type": "markdown",
   "metadata": {},
   "source": [
    "**Purpose: To gain experience with the apply function in R, while dealing with a concrete example of computing conditional probabilities.**\n",
    "\n",
    "The eye-color hair-color data from Table 4.1 are built into R as the array named HairEyeColor. The array is frequencies of eye and hair color for males and females. Run the following code in R:\n",
    "\n",
    "```\n",
    "show( HairEyeColor ) # Show data\n",
    "EyeHairFreq = apply( HairEyeColor, c(\"Eye\",\"Hair\"), sum ) # Sum across sex\n",
    "EyeHairProp = EyeHairFreq / sum( EyeHairFreq ) # joint proportions, Table 4.1\n",
    "show( round( EyeHairProp , 2 ) )\n",
    "HairFreq = apply( HairEyeColor , c(\"Hair\") , sum ) # Sum across sex and eye\n",
    "HairProp = HairFreq / sum( HairFreq ) # marginal proportions, Table 4.1\n",
    "show( round( HairProp , 2 ) )\n",
    "EyeFreq = apply( HairEyeColor , c(\"Eye\") , sum ) # Sum across sex and eye\n",
    "EyeProp = EyeFreq / sum( EyeFreq ) # marginal proportions, Table 4.1\n",
    "show( round( EyeProp , 2 ) )\n",
    "EyeHairProp[\"Blue\",] / EyeProp[\"Blue\"] # conditional prob, Table 4.2\n",
    "```\n",
    "\n",
    "In your write-up, include each line above and its results. Explain what each line does (in a bit more detail than the inline comments). Extend the above commands by also computing the probabilities of the hair colors given Brown eyes, and the probabilities of the eye colors given Brown hair"
   ]
  },
  {
   "cell_type": "markdown",
   "metadata": {},
   "source": [
    "*I will adapt the above R code to python code.*"
   ]
  },
  {
   "cell_type": "code",
   "execution_count": 3,
   "metadata": {},
   "outputs": [
    {
     "data": {
      "text/html": [
       "<div>\n",
       "<style scoped>\n",
       "    .dataframe tbody tr th:only-of-type {\n",
       "        vertical-align: middle;\n",
       "    }\n",
       "\n",
       "    .dataframe tbody tr th {\n",
       "        vertical-align: top;\n",
       "    }\n",
       "\n",
       "    .dataframe thead th {\n",
       "        text-align: right;\n",
       "    }\n",
       "</style>\n",
       "<table border=\"1\" class=\"dataframe\">\n",
       "  <thead>\n",
       "    <tr style=\"text-align: right;\">\n",
       "      <th></th>\n",
       "      <th>Hair</th>\n",
       "      <th>Eye</th>\n",
       "      <th>Sex</th>\n",
       "      <th>Freq</th>\n",
       "    </tr>\n",
       "  </thead>\n",
       "  <tbody>\n",
       "    <tr>\n",
       "      <td>1</td>\n",
       "      <td>Black</td>\n",
       "      <td>Brown</td>\n",
       "      <td>Male</td>\n",
       "      <td>32</td>\n",
       "    </tr>\n",
       "    <tr>\n",
       "      <td>2</td>\n",
       "      <td>Brown</td>\n",
       "      <td>Brown</td>\n",
       "      <td>Male</td>\n",
       "      <td>53</td>\n",
       "    </tr>\n",
       "    <tr>\n",
       "      <td>3</td>\n",
       "      <td>Red</td>\n",
       "      <td>Brown</td>\n",
       "      <td>Male</td>\n",
       "      <td>10</td>\n",
       "    </tr>\n",
       "    <tr>\n",
       "      <td>4</td>\n",
       "      <td>Blond</td>\n",
       "      <td>Brown</td>\n",
       "      <td>Male</td>\n",
       "      <td>3</td>\n",
       "    </tr>\n",
       "    <tr>\n",
       "      <td>5</td>\n",
       "      <td>Black</td>\n",
       "      <td>Blue</td>\n",
       "      <td>Male</td>\n",
       "      <td>11</td>\n",
       "    </tr>\n",
       "  </tbody>\n",
       "</table>\n",
       "</div>"
      ],
      "text/plain": [
       "    Hair    Eye   Sex  Freq\n",
       "1  Black  Brown  Male    32\n",
       "2  Brown  Brown  Male    53\n",
       "3    Red  Brown  Male    10\n",
       "4  Blond  Brown  Male     3\n",
       "5  Black   Blue  Male    11"
      ]
     },
     "execution_count": 3,
     "metadata": {},
     "output_type": "execute_result"
    }
   ],
   "source": [
    "hair_eye_color = pd.read_csv(\"./data/hair_eye_color.csv\", index_col=0)\n",
    "hair_eye_color.head()"
   ]
  },
  {
   "cell_type": "markdown",
   "metadata": {},
   "source": [
    "```\n",
    "EyeHairFreq = apply( HairEyeColor, c(\"Eye\",\"Hair\"), sum ) # Sum across sex\n",
    "EyeHairProp = EyeHairFreq / sum( EyeHairFreq ) # joint proportions, Table 4.1\n",
    "show( round( EyeHairProp , 2 ) )\n",
    "````"
   ]
  },
  {
   "cell_type": "code",
   "execution_count": 4,
   "metadata": {},
   "outputs": [
    {
     "data": {
      "text/html": [
       "<div>\n",
       "<style scoped>\n",
       "    .dataframe tbody tr th:only-of-type {\n",
       "        vertical-align: middle;\n",
       "    }\n",
       "\n",
       "    .dataframe tbody tr th {\n",
       "        vertical-align: top;\n",
       "    }\n",
       "\n",
       "    .dataframe thead th {\n",
       "        text-align: right;\n",
       "    }\n",
       "</style>\n",
       "<table border=\"1\" class=\"dataframe\">\n",
       "  <thead>\n",
       "    <tr style=\"text-align: right;\">\n",
       "      <th>Hair</th>\n",
       "      <th>Black</th>\n",
       "      <th>Blond</th>\n",
       "      <th>Brown</th>\n",
       "      <th>Red</th>\n",
       "    </tr>\n",
       "    <tr>\n",
       "      <th>Eye</th>\n",
       "      <th></th>\n",
       "      <th></th>\n",
       "      <th></th>\n",
       "      <th></th>\n",
       "    </tr>\n",
       "  </thead>\n",
       "  <tbody>\n",
       "    <tr>\n",
       "      <td>Blue</td>\n",
       "      <td>0.034</td>\n",
       "      <td>0.159</td>\n",
       "      <td>0.142</td>\n",
       "      <td>0.029</td>\n",
       "    </tr>\n",
       "    <tr>\n",
       "      <td>Brown</td>\n",
       "      <td>0.115</td>\n",
       "      <td>0.012</td>\n",
       "      <td>0.201</td>\n",
       "      <td>0.044</td>\n",
       "    </tr>\n",
       "    <tr>\n",
       "      <td>Green</td>\n",
       "      <td>0.008</td>\n",
       "      <td>0.027</td>\n",
       "      <td>0.049</td>\n",
       "      <td>0.024</td>\n",
       "    </tr>\n",
       "    <tr>\n",
       "      <td>Hazel</td>\n",
       "      <td>0.025</td>\n",
       "      <td>0.017</td>\n",
       "      <td>0.091</td>\n",
       "      <td>0.024</td>\n",
       "    </tr>\n",
       "  </tbody>\n",
       "</table>\n",
       "</div>"
      ],
      "text/plain": [
       "Hair   Black  Blond  Brown    Red\n",
       "Eye                              \n",
       "Blue   0.034  0.159  0.142  0.029\n",
       "Brown  0.115  0.012  0.201  0.044\n",
       "Green  0.008  0.027  0.049  0.024\n",
       "Hazel  0.025  0.017  0.091  0.024"
      ]
     },
     "execution_count": 4,
     "metadata": {},
     "output_type": "execute_result"
    }
   ],
   "source": [
    "hair_eye_freq = hair_eye_color.groupby([\"Hair\", \"Eye\"]).agg(\"sum\") # Removing `Sex` variable\n",
    "hair_eye_freq[\"Prop\"] = np.round(hair_eye_freq[\"Freq\"] / hair_eye_freq[\"Freq\"].sum(), 3) # Creating *proportion* column\n",
    "hair_eye_freq.reset_index().pivot(index=\"Eye\", columns=\"Hair\", values=\"Prop\") # Pivoting here just to visualize better"
   ]
  },
  {
   "cell_type": "markdown",
   "metadata": {},
   "source": [
    "```\n",
    "HairFreq = apply( HairEyeColor , c(\"Hair\") , sum ) # Sum across sex and eye\n",
    "HairProp = HairFreq / sum( HairFreq ) # marginal proportions, Table 4.1\n",
    "show( round( HairProp , 2 ) )\n",
    "```"
   ]
  },
  {
   "cell_type": "code",
   "execution_count": 5,
   "metadata": {},
   "outputs": [
    {
     "data": {
      "text/html": [
       "<div>\n",
       "<style scoped>\n",
       "    .dataframe tbody tr th:only-of-type {\n",
       "        vertical-align: middle;\n",
       "    }\n",
       "\n",
       "    .dataframe tbody tr th {\n",
       "        vertical-align: top;\n",
       "    }\n",
       "\n",
       "    .dataframe thead th {\n",
       "        text-align: right;\n",
       "    }\n",
       "</style>\n",
       "<table border=\"1\" class=\"dataframe\">\n",
       "  <thead>\n",
       "    <tr style=\"text-align: right;\">\n",
       "      <th></th>\n",
       "      <th>Freq</th>\n",
       "      <th>Prop</th>\n",
       "    </tr>\n",
       "    <tr>\n",
       "      <th>Hair</th>\n",
       "      <th></th>\n",
       "      <th></th>\n",
       "    </tr>\n",
       "  </thead>\n",
       "  <tbody>\n",
       "    <tr>\n",
       "      <td>Black</td>\n",
       "      <td>108</td>\n",
       "      <td>0.182</td>\n",
       "    </tr>\n",
       "    <tr>\n",
       "      <td>Blond</td>\n",
       "      <td>127</td>\n",
       "      <td>0.215</td>\n",
       "    </tr>\n",
       "    <tr>\n",
       "      <td>Brown</td>\n",
       "      <td>286</td>\n",
       "      <td>0.483</td>\n",
       "    </tr>\n",
       "    <tr>\n",
       "      <td>Red</td>\n",
       "      <td>71</td>\n",
       "      <td>0.120</td>\n",
       "    </tr>\n",
       "  </tbody>\n",
       "</table>\n",
       "</div>"
      ],
      "text/plain": [
       "       Freq   Prop\n",
       "Hair              \n",
       "Black   108  0.182\n",
       "Blond   127  0.215\n",
       "Brown   286  0.483\n",
       "Red      71  0.120"
      ]
     },
     "execution_count": 5,
     "metadata": {},
     "output_type": "execute_result"
    }
   ],
   "source": [
    "hair_freq = hair_eye_color.groupby(\"Hair\").sum() # Grouping by hair\n",
    "hair_freq[\"Prop\"] = np.round(hair_freq[\"Freq\"] / hair_freq[\"Freq\"].sum(), 3) # Getting the hair proportion\n",
    "\n",
    "hair_freq"
   ]
  },
  {
   "cell_type": "markdown",
   "metadata": {},
   "source": [
    "```\n",
    "EyeFreq = apply( HairEyeColor , c(\"Eye\") , sum ) # Sum across sex and eye\n",
    "EyeProp = EyeFreq / sum( EyeFreq ) # marginal proportions, Table 4.1\n",
    "show( round( EyeProp , 2 ) )\n",
    "```"
   ]
  },
  {
   "cell_type": "code",
   "execution_count": 6,
   "metadata": {},
   "outputs": [
    {
     "data": {
      "text/html": [
       "<div>\n",
       "<style scoped>\n",
       "    .dataframe tbody tr th:only-of-type {\n",
       "        vertical-align: middle;\n",
       "    }\n",
       "\n",
       "    .dataframe tbody tr th {\n",
       "        vertical-align: top;\n",
       "    }\n",
       "\n",
       "    .dataframe thead th {\n",
       "        text-align: right;\n",
       "    }\n",
       "</style>\n",
       "<table border=\"1\" class=\"dataframe\">\n",
       "  <thead>\n",
       "    <tr style=\"text-align: right;\">\n",
       "      <th></th>\n",
       "      <th>Freq</th>\n",
       "      <th>Prop</th>\n",
       "    </tr>\n",
       "    <tr>\n",
       "      <th>Eye</th>\n",
       "      <th></th>\n",
       "      <th></th>\n",
       "    </tr>\n",
       "  </thead>\n",
       "  <tbody>\n",
       "    <tr>\n",
       "      <td>Blue</td>\n",
       "      <td>215</td>\n",
       "      <td>0.363</td>\n",
       "    </tr>\n",
       "    <tr>\n",
       "      <td>Brown</td>\n",
       "      <td>220</td>\n",
       "      <td>0.372</td>\n",
       "    </tr>\n",
       "    <tr>\n",
       "      <td>Green</td>\n",
       "      <td>64</td>\n",
       "      <td>0.108</td>\n",
       "    </tr>\n",
       "    <tr>\n",
       "      <td>Hazel</td>\n",
       "      <td>93</td>\n",
       "      <td>0.157</td>\n",
       "    </tr>\n",
       "  </tbody>\n",
       "</table>\n",
       "</div>"
      ],
      "text/plain": [
       "       Freq   Prop\n",
       "Eye               \n",
       "Blue    215  0.363\n",
       "Brown   220  0.372\n",
       "Green    64  0.108\n",
       "Hazel    93  0.157"
      ]
     },
     "execution_count": 6,
     "metadata": {},
     "output_type": "execute_result"
    }
   ],
   "source": [
    "eye_freq = hair_eye_color.groupby(\"Eye\").sum() # Grouping by eye\n",
    "eye_freq[\"Prop\"] = np.round(eye_freq[\"Freq\"] / eye_freq[\"Freq\"].sum(), 3) # Getting the eye proportion\n",
    "\n",
    "eye_freq"
   ]
  },
  {
   "cell_type": "markdown",
   "metadata": {},
   "source": [
    "```\n",
    "EyeHairProp[\"Blue\",] / EyeProp[\"Blue\"] # conditional prob, Table 4.2\n",
    "```\n",
    "\n",
    "\n",
    "Here we get the conditional probability for hair colors given blue eyes\n",
    "\n",
    "\n",
    "$p(h|e=blue)$"
   ]
  },
  {
   "cell_type": "code",
   "execution_count": 7,
   "metadata": {},
   "outputs": [
    {
     "data": {
      "text/html": [
       "<div>\n",
       "<style scoped>\n",
       "    .dataframe tbody tr th:only-of-type {\n",
       "        vertical-align: middle;\n",
       "    }\n",
       "\n",
       "    .dataframe tbody tr th {\n",
       "        vertical-align: top;\n",
       "    }\n",
       "\n",
       "    .dataframe thead th {\n",
       "        text-align: right;\n",
       "    }\n",
       "</style>\n",
       "<table border=\"1\" class=\"dataframe\">\n",
       "  <thead>\n",
       "    <tr style=\"text-align: right;\">\n",
       "      <th>Hair</th>\n",
       "      <th>Black</th>\n",
       "      <th>Blond</th>\n",
       "      <th>Brown</th>\n",
       "      <th>Red</th>\n",
       "    </tr>\n",
       "    <tr>\n",
       "      <th>Eye</th>\n",
       "      <th></th>\n",
       "      <th></th>\n",
       "      <th></th>\n",
       "      <th></th>\n",
       "    </tr>\n",
       "  </thead>\n",
       "  <tbody>\n",
       "    <tr>\n",
       "      <td>Blue</td>\n",
       "      <td>0.093</td>\n",
       "      <td>0.437</td>\n",
       "      <td>0.39</td>\n",
       "      <td>0.08</td>\n",
       "    </tr>\n",
       "  </tbody>\n",
       "</table>\n",
       "</div>"
      ],
      "text/plain": [
       "Hair  Black  Blond  Brown   Red\n",
       "Eye                            \n",
       "Blue  0.093  0.437   0.39  0.08"
      ]
     },
     "execution_count": 7,
     "metadata": {},
     "output_type": "execute_result"
    }
   ],
   "source": [
    "blue_eye_prop = hair_eye_freq.loc(axis=0)[:, \"Blue\"][[\"Prop\"]] # Getting hair proportions joint to blue eyes\n",
    "hair_conditial_blue_eye = blue_eye_prop / blue_eye_prop.sum() # Conditional prop given blue eyes\n",
    "\n",
    "np.round(hair_conditial_blue_eye, 3).reset_index().pivot(\"Eye\", \"Hair\", \"Prop\") # Pivoting to visualize"
   ]
  },
  {
   "cell_type": "markdown",
   "metadata": {},
   "source": [
    "$p(h|e=brown)$"
   ]
  },
  {
   "cell_type": "code",
   "execution_count": 8,
   "metadata": {},
   "outputs": [
    {
     "data": {
      "text/html": [
       "<div>\n",
       "<style scoped>\n",
       "    .dataframe tbody tr th:only-of-type {\n",
       "        vertical-align: middle;\n",
       "    }\n",
       "\n",
       "    .dataframe tbody tr th {\n",
       "        vertical-align: top;\n",
       "    }\n",
       "\n",
       "    .dataframe thead th {\n",
       "        text-align: right;\n",
       "    }\n",
       "</style>\n",
       "<table border=\"1\" class=\"dataframe\">\n",
       "  <thead>\n",
       "    <tr style=\"text-align: right;\">\n",
       "      <th>Hair</th>\n",
       "      <th>Black</th>\n",
       "      <th>Blond</th>\n",
       "      <th>Brown</th>\n",
       "      <th>Red</th>\n",
       "    </tr>\n",
       "    <tr>\n",
       "      <th>Eye</th>\n",
       "      <th></th>\n",
       "      <th></th>\n",
       "      <th></th>\n",
       "      <th></th>\n",
       "    </tr>\n",
       "  </thead>\n",
       "  <tbody>\n",
       "    <tr>\n",
       "      <td>Brown</td>\n",
       "      <td>0.309</td>\n",
       "      <td>0.032</td>\n",
       "      <td>0.54</td>\n",
       "      <td>0.118</td>\n",
       "    </tr>\n",
       "  </tbody>\n",
       "</table>\n",
       "</div>"
      ],
      "text/plain": [
       "Hair   Black  Blond  Brown    Red\n",
       "Eye                              \n",
       "Brown  0.309  0.032   0.54  0.118"
      ]
     },
     "execution_count": 8,
     "metadata": {},
     "output_type": "execute_result"
    }
   ],
   "source": [
    "brown_eye_prop = hair_eye_freq.loc(axis=0)[:, \"Brown\"][[\"Prop\"]] # Getting hair proportions joint to brown eyes\n",
    "hair_conditial_brown_eye = brown_eye_prop / brown_eye_prop.sum() # Conditional prop given brown eyes\n",
    "\n",
    "np.round(hair_conditial_brown_eye, 3).reset_index().pivot(\"Eye\", \"Hair\", \"Prop\") # Pivoting to visualize"
   ]
  },
  {
   "cell_type": "markdown",
   "metadata": {},
   "source": [
    "$p(e|h=brown)$"
   ]
  },
  {
   "cell_type": "code",
   "execution_count": 9,
   "metadata": {},
   "outputs": [
    {
     "data": {
      "text/html": [
       "<div>\n",
       "<style scoped>\n",
       "    .dataframe tbody tr th:only-of-type {\n",
       "        vertical-align: middle;\n",
       "    }\n",
       "\n",
       "    .dataframe tbody tr th {\n",
       "        vertical-align: top;\n",
       "    }\n",
       "\n",
       "    .dataframe thead th {\n",
       "        text-align: right;\n",
       "    }\n",
       "</style>\n",
       "<table border=\"1\" class=\"dataframe\">\n",
       "  <thead>\n",
       "    <tr style=\"text-align: right;\">\n",
       "      <th>Eye</th>\n",
       "      <th>Blue</th>\n",
       "      <th>Brown</th>\n",
       "      <th>Green</th>\n",
       "      <th>Hazel</th>\n",
       "    </tr>\n",
       "    <tr>\n",
       "      <th>Hair</th>\n",
       "      <th></th>\n",
       "      <th></th>\n",
       "      <th></th>\n",
       "      <th></th>\n",
       "    </tr>\n",
       "  </thead>\n",
       "  <tbody>\n",
       "    <tr>\n",
       "      <td>Brown</td>\n",
       "      <td>0.294</td>\n",
       "      <td>0.416</td>\n",
       "      <td>0.101</td>\n",
       "      <td>0.188</td>\n",
       "    </tr>\n",
       "  </tbody>\n",
       "</table>\n",
       "</div>"
      ],
      "text/plain": [
       "Eye     Blue  Brown  Green  Hazel\n",
       "Hair                             \n",
       "Brown  0.294  0.416  0.101  0.188"
      ]
     },
     "execution_count": 9,
     "metadata": {},
     "output_type": "execute_result"
    }
   ],
   "source": [
    "brown_hair_prop = hair_eye_freq.loc(axis=0)[\"Brown\", :][[\"Prop\"]]\n",
    "eye_conditional_brown_hair = brown_hair_prop / brown_hair_prop.sum()\n",
    "\n",
    "np.round(eye_conditional_brown_hair, 3).reset_index().pivot(\"Hair\", \"Eye\", \"Prop\")"
   ]
  },
  {
   "cell_type": "markdown",
   "metadata": {},
   "source": [
    "I'll extend the scope of the exercise a little bit, calculating all the possible $p(e|h)$ and all possible $p(h|e)$"
   ]
  },
  {
   "cell_type": "code",
   "execution_count": 10,
   "metadata": {},
   "outputs": [
    {
     "data": {
      "text/html": [
       "<div>\n",
       "<style scoped>\n",
       "    .dataframe tbody tr th:only-of-type {\n",
       "        vertical-align: middle;\n",
       "    }\n",
       "\n",
       "    .dataframe tbody tr th {\n",
       "        vertical-align: top;\n",
       "    }\n",
       "\n",
       "    .dataframe thead th {\n",
       "        text-align: right;\n",
       "    }\n",
       "</style>\n",
       "<table border=\"1\" class=\"dataframe\">\n",
       "  <thead>\n",
       "    <tr style=\"text-align: right;\">\n",
       "      <th>Hair</th>\n",
       "      <th>Black</th>\n",
       "      <th>Blond</th>\n",
       "      <th>Brown</th>\n",
       "      <th>Red</th>\n",
       "    </tr>\n",
       "    <tr>\n",
       "      <th>Eye</th>\n",
       "      <th></th>\n",
       "      <th></th>\n",
       "      <th></th>\n",
       "      <th></th>\n",
       "    </tr>\n",
       "  </thead>\n",
       "  <tbody>\n",
       "    <tr>\n",
       "      <td>Blue</td>\n",
       "      <td>0.094</td>\n",
       "      <td>0.438</td>\n",
       "      <td>0.391</td>\n",
       "      <td>0.080</td>\n",
       "    </tr>\n",
       "    <tr>\n",
       "      <td>Brown</td>\n",
       "      <td>0.309</td>\n",
       "      <td>0.032</td>\n",
       "      <td>0.540</td>\n",
       "      <td>0.118</td>\n",
       "    </tr>\n",
       "    <tr>\n",
       "      <td>Green</td>\n",
       "      <td>0.074</td>\n",
       "      <td>0.250</td>\n",
       "      <td>0.454</td>\n",
       "      <td>0.222</td>\n",
       "    </tr>\n",
       "    <tr>\n",
       "      <td>Hazel</td>\n",
       "      <td>0.159</td>\n",
       "      <td>0.108</td>\n",
       "      <td>0.580</td>\n",
       "      <td>0.153</td>\n",
       "    </tr>\n",
       "  </tbody>\n",
       "</table>\n",
       "</div>"
      ],
      "text/plain": [
       "Hair   Black  Blond  Brown    Red\n",
       "Eye                              \n",
       "Blue   0.094  0.438  0.391  0.080\n",
       "Brown  0.309  0.032  0.540  0.118\n",
       "Green  0.074  0.250  0.454  0.222\n",
       "Hazel  0.159  0.108  0.580  0.153"
      ]
     },
     "execution_count": 10,
     "metadata": {},
     "output_type": "execute_result"
    }
   ],
   "source": [
    "hair_given_eye = hair_eye_freq.join(eye_freq, on=\"Eye\", lsuffix=\"HairEye\", rsuffix=\"Eye\")\n",
    "hair_given_eye[\"Conditional\"] = np.round(hair_given_eye[\"PropHairEye\"] / hair_given_eye[\"PropEye\"], 3)\n",
    "\n",
    "hair_given_eye.reset_index().pivot(\"Eye\", \"Hair\", \"Conditional\")"
   ]
  },
  {
   "cell_type": "code",
   "execution_count": 11,
   "metadata": {},
   "outputs": [
    {
     "data": {
      "text/html": [
       "<div>\n",
       "<style scoped>\n",
       "    .dataframe tbody tr th:only-of-type {\n",
       "        vertical-align: middle;\n",
       "    }\n",
       "\n",
       "    .dataframe tbody tr th {\n",
       "        vertical-align: top;\n",
       "    }\n",
       "\n",
       "    .dataframe thead th {\n",
       "        text-align: right;\n",
       "    }\n",
       "</style>\n",
       "<table border=\"1\" class=\"dataframe\">\n",
       "  <thead>\n",
       "    <tr style=\"text-align: right;\">\n",
       "      <th>Eye</th>\n",
       "      <th>Blue</th>\n",
       "      <th>Brown</th>\n",
       "      <th>Green</th>\n",
       "      <th>Hazel</th>\n",
       "    </tr>\n",
       "    <tr>\n",
       "      <th>Hair</th>\n",
       "      <th></th>\n",
       "      <th></th>\n",
       "      <th></th>\n",
       "      <th></th>\n",
       "    </tr>\n",
       "  </thead>\n",
       "  <tbody>\n",
       "    <tr>\n",
       "      <td>Black</td>\n",
       "      <td>0.187</td>\n",
       "      <td>0.632</td>\n",
       "      <td>0.044</td>\n",
       "      <td>0.137</td>\n",
       "    </tr>\n",
       "    <tr>\n",
       "      <td>Blond</td>\n",
       "      <td>0.740</td>\n",
       "      <td>0.056</td>\n",
       "      <td>0.126</td>\n",
       "      <td>0.079</td>\n",
       "    </tr>\n",
       "    <tr>\n",
       "      <td>Brown</td>\n",
       "      <td>0.294</td>\n",
       "      <td>0.416</td>\n",
       "      <td>0.101</td>\n",
       "      <td>0.188</td>\n",
       "    </tr>\n",
       "    <tr>\n",
       "      <td>Red</td>\n",
       "      <td>0.242</td>\n",
       "      <td>0.367</td>\n",
       "      <td>0.200</td>\n",
       "      <td>0.200</td>\n",
       "    </tr>\n",
       "  </tbody>\n",
       "</table>\n",
       "</div>"
      ],
      "text/plain": [
       "Eye     Blue  Brown  Green  Hazel\n",
       "Hair                             \n",
       "Black  0.187  0.632  0.044  0.137\n",
       "Blond  0.740  0.056  0.126  0.079\n",
       "Brown  0.294  0.416  0.101  0.188\n",
       "Red    0.242  0.367  0.200  0.200"
      ]
     },
     "execution_count": 11,
     "metadata": {},
     "output_type": "execute_result"
    }
   ],
   "source": [
    "eye_given_hair = hair_eye_freq.join(hair_freq, on=\"Hair\", lsuffix=\"HairEye\", rsuffix=\"Hair\")\n",
    "eye_given_hair[\"Conditional\"] = np.round(eye_given_hair[\"PropHairEye\"] / eye_given_hair[\"PropHair\"], 3)\n",
    "\n",
    "eye_given_hair.reset_index().pivot(\"Hair\", \"Eye\", \"Conditional\")"
   ]
  },
  {
   "cell_type": "markdown",
   "metadata": {},
   "source": [
    "## Exercise 2"
   ]
  },
  {
   "cell_type": "markdown",
   "metadata": {},
   "source": [
    "**Purpose: To give you some experience with random number generation in R.**\n",
    "\n",
    "Modify the coin flipping program in Section 4.5 RunningProportion.R to simulate a biased coin that has p(H) = 0.8. Change the height of the reference line in the plot to match p(H). Comment your code. Hint: Read the help for the sample command."
   ]
  },
  {
   "cell_type": "code",
   "execution_count": 12,
   "metadata": {},
   "outputs": [],
   "source": [
    "np.random.seed(123)"
   ]
  },
  {
   "cell_type": "code",
   "execution_count": 13,
   "metadata": {},
   "outputs": [],
   "source": [
    "N = 100000\n",
    "\n",
    "coin_tosses = (np.random.random_sample(N) < 0.8).astype(\"int\")\n",
    "cummean = np.cumsum(coin_tosses) / np.arange(1, N + 1)"
   ]
  },
  {
   "cell_type": "code",
   "execution_count": 14,
   "metadata": {},
   "outputs": [
    {
     "data": {
      "image/png": "[encoded data removed]",
      "text/plain": [
       "<Figure size 432x288 with 1 Axes>"
      ]
     },
     "metadata": {
      "needs_background": "light"
     },
     "output_type": "display_data"
    }
   ],
   "source": [
    "fig, ax = plt.subplots()\n",
    "\n",
    "ax.semilogx(np.arange(1, N+1), cummean)\n",
    "ax.axhline(0.5, color=\"r\", linestyle=\"--\")\n",
    "ax.axhline(0.8, color=\"r\", linestyle=\"--\")\n",
    "plt.ylim((0, 1))\n",
    "plt.title(\"Running proportion of heads\")\n",
    "ax.text(0.45, 0.95, f\"Final proportion: {cummean[-1]}\", transform=ax.transAxes, fontsize=14, verticalalignment='top')\n",
    "plt.xlabel(\"Flip Number\")\n",
    "plt.ylabel(\"Proportion Heads\")\n",
    "\n",
    "plt.show()"
   ]
  },
  {
   "cell_type": "markdown",
   "metadata": {},
   "source": [
    "## Exercise 3\n",
    "\n",
    "**Purpose: To have you work through an example of the logic presented in Section 4.2.1.2.**\n",
    "\n",
    "Determine the exact probability of drawing a 10 from a shuffled pinochle deck. (In a pinochle deck, there are 48 cards. There are six values: 9, 10, Jack, Queen, King, Ace. There are two copies of each value in each of the standard four suits: hearts, diamonds, clubs, spades.)\n",
    "\n",
    "**(A)** What is the probability of getting a 10?\n",
    "\n",
    "**(B)** What is the probability of getting a 10 or Jack?"
   ]
  },
  {
   "cell_type": "code",
   "execution_count": 15,
   "metadata": {},
   "outputs": [
    {
     "name": "stdout",
     "output_type": "stream",
     "text": [
      "(A): 0.167\n",
      "(B): 0.333\n"
     ]
    }
   ],
   "source": [
    "a = (2*4) / 48\n",
    "print(f\"(A): {a:.3f}\")\n",
    "b = 2 * a\n",
    "print(f\"(B): {b:.3f}\")"
   ]
  },
  {
   "cell_type": "markdown",
   "metadata": {},
   "source": [
    "## Exercise 4\n",
    "\n",
    "**Purpose: To give you hands-on experience with a simple probability density function, in R and in calculus, and to reemphasize that density functions can have values larger than 1.**\n",
    "\n",
    "\n",
    "Consider a spinner with a $[0,1]$ scale on its circumference. Suppose that the spinner is slanted or magnetized or bent in some way such that it is biased, and its probability density function is $p(x) = 6x(1 − x)$ over the interval $x ∈ [0, 1]$.\n",
    "\n",
    "**(A)** Adapt the program *IntegralOfDensity.R* to plot this density function and approximate its integral. Comment your code. Be careful to consider values of $x$ only in the interval $[0, 1]$. *Hint*: You can omit the first couple of lines regarding ```meanval``` and ```sdval```, because those parameter values pertain only to the normal distribution. Then set ```xlow=0``` and ```xhigh=1```, and set $dx$ to some small value.\n",
    "\n",
    "**(B)** Derive the exact integral using calculus. *Hint*: See the example, *Equation 4.7*.\n",
    "\n",
    "**(C)** Does this function satisfy *Equation 4.3*?\n",
    "\n",
    "**(D)** From inspecting the graph, what is the maximal value of $p(x)$?"
   ]
  },
  {
   "cell_type": "markdown",
   "metadata": {},
   "source": [
    "#### **(A)**"
   ]
  },
  {
   "cell_type": "code",
   "execution_count": 51,
   "metadata": {},
   "outputs": [],
   "source": [
    "def spinner_pdf(x):\n",
    "    return 6 * x * (1 - x)\n",
    "\n",
    "\n",
    "x_min = 0\n",
    "x_max = 1\n",
    "dx = (x_max - x_min) / 20\n",
    "\n",
    "x = list(np.arange(0, 1+dx, dx))\n",
    "y = list(map(spinner_pdf, x))"
   ]
  },
  {
   "cell_type": "code",
   "execution_count": 53,
   "metadata": {},
   "outputs": [
    {
     "data": {
      "image/png": "[encoded data removed]",
      "text/plain": [
       "<Figure size 432x288 with 1 Axes>"
      ]
     },
     "metadata": {
      "needs_background": "light"
     },
     "output_type": "display_data"
    }
   ],
   "source": [
    "plt.plot(x, y, \"b\")\n",
    "plt.vlines(x, 0, y)\n",
    "plt.title(\"Spinner Probabilty Density\")\n",
    "plt.xlabel(\"x\")\n",
    "plt.ylabel(\"p(x)\")\n",
    "\n",
    "plt.show()"
   ]
  },
  {
   "cell_type": "markdown",
   "metadata": {},
   "source": [
    "#### **(B)**"
   ]
  },
  {
   "cell_type": "markdown",
   "metadata": {},
   "source": [
    "$$p(x) = 6x(1-x)$$\n",
    "\n",
    "\n",
    "$$\\int_{0}^{1} p(x) dx = \\int_{0}^{1} 6x(1-x) dx = 6 \\int_{0}^{1} -x^2 + x = 6 [-\\frac{1}{3}x^3 + \\frac{1}{2}x^2]_0^1 = 6[(-\\frac{1}{3}1^3 + \\frac{1}{2}1^2) - (-\\frac{1}{3}0^3 + \\frac{1}{2}0^2)] = 6 \\times (\\frac{1}{6} - \\frac{0}{0}) = 1$$"
   ]
  },
  {
   "cell_type": "markdown",
   "metadata": {},
   "source": [
    "#### **(C)**"
   ]
  },
  {
   "cell_type": "markdown",
   "metadata": {},
   "source": [
    "Yes it does because the result is equal to **1**"
   ]
  },
  {
   "cell_type": "markdown",
   "metadata": {},
   "source": [
    "#### **(D)**"
   ]
  },
  {
   "cell_type": "code",
   "execution_count": 55,
   "metadata": {},
   "outputs": [
    {
     "name": "stdout",
     "output_type": "stream",
     "text": [
      "1.5\n"
     ]
    }
   ],
   "source": [
    "print(max(y))"
   ]
  }
 ],
 "metadata": {
  "kernelspec": {
   "display_name": "Python 3",
   "language": "python",
   "name": "python3"
  },
  "language_info": {
   "codemirror_mode": {
    "name": "ipython",
    "version": 3
   },
   "file_extension": ".py",
   "mimetype": "text/x-python",
   "name": "python",
   "nbconvert_exporter": "python",
   "pygments_lexer": "ipython3",
   "version": "3.7.4"
  }
 },
 "nbformat": 4,
 "nbformat_minor": 4
}
