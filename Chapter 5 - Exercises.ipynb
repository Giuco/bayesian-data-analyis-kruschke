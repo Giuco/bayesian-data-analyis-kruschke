{
 "cells": [
  {
   "cell_type": "code",
   "execution_count": 1,
   "metadata": {},
   "outputs": [],
   "source": [
    "import pandas as pd\n",
    "import numpy as np\n",
    "from matplotlib import pyplot as plt"
   ]
  },
  {
   "cell_type": "markdown",
   "metadata": {},
   "source": [
    "## Exercise 1\n",
    "\n",
    "**Purpose: Iterative application of Bayes’ rule, and seeing how posterior probabilities change with inclusion of more data.**\n",
    "\n",
    "This exercise extends the ideas of Table 5.4, so at this time, please review Table 5.4 and its discussion in the text. Suppose that the same randomly selected person as in Table 5.4 gets re-tested after the first test result was positive, and on the re-test, the result is negative. When taking into account the results of both tests, what is the probability that the person has the disease? Hint: For the prior probability of the re-test, use the posterior computed from the Table 5.4. Retain as many decimal places as possible, as rounding can have a surprisingly big effect on the results. One way to avoid unnecessary rounding is to do the calculations in R."
   ]
  },
  {
   "cell_type": "code",
   "execution_count": 2,
   "metadata": {},
   "outputs": [],
   "source": [
    "p_disease = 0.001\n",
    "p_no_disease = 1 - p_disease\n",
    "\n",
    "p_positive_given_disease = 0.99\n",
    "p_negative_given_disease = `1 - p_positive_given_disease\n",
    "p_positive_given_no_disease = 0.05\n",
    "p_negative_given_no_disease = 1 - p_positive_given_no_disease\n",
    "\n",
    "p_disease_given_positive = (p_positive_given_disease * p_disease) / (p_positive_given_disease * p_disease + p_positive_given_no_disease * p_no_disease) "
   ]
  },
  {
   "cell_type": "code",
   "execution_count": 3,
   "metadata": {},
   "outputs": [
    {
     "data": {
      "text/plain": [
       "0.019434628975265017"
      ]
     },
     "execution_count": 3,
     "metadata": {},
     "output_type": "execute_result"
    }
   ],
   "source": [
    "p_disease_given_positive"
   ]
  },
  {
   "cell_type": "code",
   "execution_count": 4,
   "metadata": {},
   "outputs": [],
   "source": [
    "p_not_positive_given_disease = 1 - p_positive_given_disease\n",
    "p_no_disease_given_positive = 1 - p_disease_given_positive"
   ]
  },
  {
   "cell_type": "code",
   "execution_count": 5,
   "metadata": {},
   "outputs": [],
   "source": [
    "#TODO: Do it in Latex\n",
    "numerator = p_not_positive_given_disease * p_disease_given_positive\n",
    "denominator = (p_not_positive_given_disease * p_disease_given_positive) + (p_positive_given_disease * p_no_disease_given_positive)\n",
    "p_disease_given_positive_and_negative = numerator / denominator"
   ]
  },
  {
   "cell_type": "code",
   "execution_count": 6,
   "metadata": {},
   "outputs": [
    {
     "data": {
      "text/plain": [
       "0.00020016012810248216"
      ]
     },
     "execution_count": 6,
     "metadata": {},
     "output_type": "execute_result"
    }
   ],
   "source": [
    "p_disease_given_positive_and_negative"
   ]
  },
  {
   "cell_type": "markdown",
   "metadata": {},
   "source": [
    "## Exercise 2\n",
    "**Purpose: Getting an intuition for the previous results by using “natural frequency” and “Markov” representations**\n",
    "\n",
    "**(A)** Suppose that the population consists of 100,000 people. Compute how many people would be expected to fall into each cell of Table 5.4. To compute the expected frequency of people in a cell, just multiply the cell probability by the size of the population. To get you started, a few of the cells of the frequency table are filled in here. Notice the frequencies on the lower margin of the table. They indicate that out of 100,000 people, only 100 have the disease, while 99,900 do not have the disease. These marginal frequencies instantiate the prior probability that p(θ = ⌢ ̈ ) = 0.001. Notice also the cell frequencies in the column θ = ⌢ ̈ , which indicate that of 100 people with the disease, 99 have a positive test result and 1 has a negative test result. These cell frequencies instantiate the hit rate of 0.99. Your job for this part of the exercise is to fill in the frequencies of the remaining cells of the table."
   ]
  },
  {
   "cell_type": "code",
   "execution_count": 7,
   "metadata": {},
   "outputs": [],
   "source": [
    "p_disease = 0.001\n",
    "p_no_disease = 1 - p_disease\n",
    "\n",
    "p_positive_joint_disease = p_positive_given_disease * p_disease\n",
    "p_negative_joint_disease = p_negative_given_disease * p_disease\n",
    "\n",
    "p_positive_joint_no_disease = p_positive_given_no_disease * p_no_disease\n",
    "p_negative_joint_no_disease = p_negative_given_no_disease * p_no_disease\n",
    "\n",
    "p_positive = p_positive_joint_disease + p_positive_joint_no_disease\n",
    "p_negative = p_negative_joint_disease + p_negative_joint_no_disease"
   ]
  },
  {
   "cell_type": "code",
   "execution_count": 8,
   "metadata": {},
   "outputs": [
    {
     "data": {
      "text/html": [
       "<div>\n",
       "<style scoped>\n",
       "    .dataframe tbody tr th:only-of-type {\n",
       "        vertical-align: middle;\n",
       "    }\n",
       "\n",
       "    .dataframe tbody tr th {\n",
       "        vertical-align: top;\n",
       "    }\n",
       "\n",
       "    .dataframe thead th {\n",
       "        text-align: right;\n",
       "    }\n",
       "</style>\n",
       "<table border=\"1\" class=\"dataframe\">\n",
       "  <thead>\n",
       "    <tr style=\"text-align: right;\">\n",
       "      <th></th>\n",
       "      <th>disease</th>\n",
       "      <th>no_disease</th>\n",
       "      <th>marginal_diagnostics</th>\n",
       "    </tr>\n",
       "  </thead>\n",
       "  <tbody>\n",
       "    <tr>\n",
       "      <td>positive_diagnostic</td>\n",
       "      <td>99.0</td>\n",
       "      <td>4995.0</td>\n",
       "      <td>5094.0</td>\n",
       "    </tr>\n",
       "    <tr>\n",
       "      <td>negative_diagnostic</td>\n",
       "      <td>1.0</td>\n",
       "      <td>94905.0</td>\n",
       "      <td>94906.0</td>\n",
       "    </tr>\n",
       "    <tr>\n",
       "      <td>marginal_disease</td>\n",
       "      <td>100.0</td>\n",
       "      <td>99900.0</td>\n",
       "      <td>100000.0</td>\n",
       "    </tr>\n",
       "  </tbody>\n",
       "</table>\n",
       "</div>"
      ],
      "text/plain": [
       "                     disease  no_disease  marginal_diagnostics\n",
       "positive_diagnostic     99.0      4995.0                5094.0\n",
       "negative_diagnostic      1.0     94905.0               94906.0\n",
       "marginal_disease       100.0     99900.0              100000.0"
      ]
     },
     "execution_count": 8,
     "metadata": {},
     "output_type": "execute_result"
    }
   ],
   "source": [
    "p_diagnostic_joint_condition = pd.DataFrame({\n",
    "    \"disease\": [p_positive_joint_disease, p_negative_joint_disease, p_disease],\n",
    "    \"no_disease\": [p_positive_joint_no_disease, p_negative_joint_no_disease, p_no_disease],\n",
    "    \"marginal_diagnostics\": [p_positive, p_negative, 1]\n",
    "}, index=[\"positive_diagnostic\", \"negative_diagnostic\", \"marginal_disease\"])\n",
    "\n",
    "p_diagnostic_joint_condition * 100_000"
   ]
  },
  {
   "cell_type": "markdown",
   "metadata": {},
   "source": [
    "**(B)** Take a good look at the frequencies in the table you just computed for the previous part. These are the so-called “natural frequencies” of the events, as opposed to the somewhat unintuitive expression in terms of conditional probabilities (Gigerenzer & Hoffrage, 1995). From the cell frequencies alone, determine the proportion of people who have the disease, given that their test result is positive. Before computing the exact answer arithmetically, first give a rough intuitive answer merely by looking at the relative frequencies in the row D = +. Does your intuitive answer match the intuitive answer you provided when originally reading about Table 5.4? Probably not. Your intuitive answer here is probably much closer to the correct answer. Now compute the exact answer arithmetically. It should match the result from applying Bayes’ rule in Table 5.4."
   ]
  },
  {
   "cell_type": "code",
   "execution_count": 9,
   "metadata": {},
   "outputs": [
    {
     "name": "stdout",
     "output_type": "stream",
     "text": [
      "0.01943463\n"
     ]
    }
   ],
   "source": [
    "p_disease_given_positive = p_positive_joint_disease / p_positive\n",
    "\n",
    "print(\"{:.8f}\".format(p_disease_given_positive))\n"
   ]
  },
  {
   "cell_type": "markdown",
   "metadata": {},
   "source": [
    "**(C)** Now we’ll consider a related representation of the probabilities in terms of natural frequencies, which is especially useful when we accumulate more data. This type of representation is called a “Markov” representation by Krauss, Martignon, and Hoffrage (1999). Suppose now we start with a population of N = 10, 000, 000 people. We expect 99.9% of them (i.e., 9,990,000) not to have the disease, and just 0.1% (i.e., 10,000) to have the disease. Now consider how many people we expect to test positive. Of the 10,000 people who have the disease, 99%, (i.e., 9,900) will be expected to test positive. Of the 9,990,000 people who do not have the disease, 5% (i.e., 499,500) will be expected to test positive. Now consider re-testing everyone who has tested positive on the first test. How many of them are expected to show a negative result on the retest? Use this diagram to compute your answer:\n",
    "\n",
    "![](img/ch5_markov.png)\n",
    "\n",
    "When computing the frequencies for the empty boxes above, be careful to use the proper conditional probabilities!"
   ]
  },
  {
   "cell_type": "code",
   "execution_count": 10,
   "metadata": {},
   "outputs": [
    {
     "name": "stdout",
     "output_type": "stream",
     "text": [
      "       10000000\n",
      "10000     |  9990000\n",
      "9900      |  499500\n",
      "99        |  474525\n"
     ]
    }
   ],
   "source": [
    "root = 10_000_000\n",
    "\n",
    "left_branch_one = p_disease * root\n",
    "left_branch_two = p_positive_given_disease * left_branch_one\n",
    "left_branch_three = p_negative_given_disease  * left_branch_two\n",
    "\n",
    "right_branch_one = p_no_disease * root\n",
    "right_branch_two = p_positive_given_no_disease * right_branch_one\n",
    "right_branch_three = p_negative_given_no_disease * right_branch_two\n",
    "\n",
    "print(f\"       {int(root)}\")\n",
    "print(f\"{int(left_branch_one)}     |  {int(right_branch_one)}\")\n",
    "print(f\"{int(left_branch_two)}      |  {int(right_branch_two)}\")\n",
    "print(f\"{int(left_branch_three)}        |  {int(right_branch_three)}\")"
   ]
  },
  {
   "cell_type": "markdown",
   "metadata": {},
   "source": [
    "**(D)** Use the diagram in the previous part to answer this: What proportion of people, who test positive at first and then negative on retest, actually have the disease? In other words, of the total number of people at the bottom of the diagram in the previous part (those are the people who tested positive then negative), what proportion of them are in the left branch of the tree? *How does the result compare with your answer to Exercise 5.1*?"
   ]
  },
  {
   "cell_type": "code",
   "execution_count": 11,
   "metadata": {},
   "outputs": [
    {
     "name": "stdout",
     "output_type": "stream",
     "text": [
      "0.00020858616504854387\n"
     ]
    }
   ],
   "source": [
    "d_answer = left_branch_three / (left_branch_three + right_branch_three)\n",
    "\n",
    "print(d_answer)"
   ]
  },
  {
   "cell_type": "markdown",
   "metadata": {},
   "source": [
    "## Exercise 3\n",
    "\n",
    "**Purpose: To see a hands-on example of data-order invariance.**\n",
    "\n",
    "Consider again the disease and diagnostic test of the previous two exercises.\n",
    "\n",
    "**(A)** Suppose that a person selected at random from the population gets the test and it comes back negative. Compute the probability that the person has the disease."
   ]
  },
  {
   "cell_type": "code",
   "execution_count": 18,
   "metadata": {},
   "outputs": [
    {
     "name": "stdout",
     "output_type": "stream",
     "text": [
      "0.0000105367\n"
     ]
    }
   ],
   "source": [
    "p_disease_given_negative = p_negative_joint_disease / p_negative\n",
    "\n",
    "new_p_disease = p_disease_given_negative\n",
    "print(\"{:.10f}\".format(new_p_disease))"
   ]
  },
  {
   "cell_type": "markdown",
   "metadata": {},
   "source": [
    "**(B)** The person then gets re-tested, and on the second test the result is positive. Compute the probability that the person has the disease. *How does the result compare with your answer to Exercise 5.1*?"
   ]
  },
  {
   "cell_type": "code",
   "execution_count": 19,
   "metadata": {},
   "outputs": [
    {
     "name": "stdout",
     "output_type": "stream",
     "text": [
      "0.0002085861650485439\n"
     ]
    }
   ],
   "source": [
    "new_new_p_disease = (p_positive_given_disease * new_p_disease) / (p_positive_given_disease * new_p_disease + p_positive_given_no_disease * (1 - new_p_disease))\n",
    "\n",
    "print(new_new_p_disease)"
   ]
  },
  {
   "cell_type": "markdown",
   "metadata": {},
   "source": [
    "## Exercise 4 \n",
    "\n",
    "**Purpose: To gain intuition about Bayesian updating by using BernGrid.**\n",
    "\n",
    "Open the program `BernGridExample.R`. You will notice there are several examples of using the function `BernGrid`. Run the script. For each example, include the R code and the resulting graphic and explain what idea the example illustrates. Hints: Look back at Figures 5.2 and 5.3, and look ahead to Figure 6.5. Two of the examples involve a single flip, with the only difference between the examples being whether the prior is uniform or contains only two extreme options. The point of those two examples is to show that a single datum implies little when the prior is vague, but a single datum can have strong implications when the prior allows only two very different possibilities."
   ]
  },
  {
   "cell_type": "code",
   "execution_count": 20,
   "metadata": {},
   "outputs": [],
   "source": [
    "from helpers.bern_grid import plot_bern_grid"
   ]
  },
  {
   "cell_type": "code",
   "execution_count": 21,
   "metadata": {},
   "outputs": [
    {
     "data": {
      "image/png": "[encoded data removed]",
      "text/plain": [
       "<Figure size 432x288 with 3 Axes>"
      ]
     },
     "metadata": {
      "needs_background": "light"
     },
     "output_type": "display_data"
    }
   ],
   "source": [
    "theta = np.linspace(0, 1, 5)        # Sparse teeth for Theta.\n",
    "p_theta = np.minimum(theta, 1 - theta)  # Triangular shape for pTheta.\n",
    "p_theta = p_theta / np.sum(p_theta) # Make pTheta sum to 1.0\n",
    "data = np.array([1])                  # Single flip with 1 head\n",
    "\n",
    "plot_bern_grid(theta, p_theta, data)"
   ]
  }
 ],
 "metadata": {
  "kernelspec": {
   "display_name": "Python 3",
   "language": "python",
   "name": "python3"
  },
  "language_info": {
   "codemirror_mode": {
    "name": "ipython",
    "version": 3
   },
   "file_extension": ".py",
   "mimetype": "text/x-python",
   "name": "python",
   "nbconvert_exporter": "python",
   "pygments_lexer": "ipython3",
   "version": "3.7.4"
  }
 },
 "nbformat": 4,
 "nbformat_minor": 4
}
