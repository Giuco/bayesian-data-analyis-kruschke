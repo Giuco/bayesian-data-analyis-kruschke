{
 "cells": [
  {
   "cell_type": "code",
   "execution_count": 1,
   "metadata": {},
   "outputs": [],
   "source": [
    "import pandas as pd\n",
    "import numpy as np\n",
    "from matplotlib import pyplot as plt"
   ]
  },
  {
   "cell_type": "markdown",
   "metadata": {},
   "source": [
    "## Exercise 1\n",
    "\n",
    "**Purpose: Iterative application of Bayes’ rule, and seeing how posterior probabilities change with inclusion of more data.**\n",
    "\n",
    "This exercise extends the ideas of Table 5.4, so at this time, please review Table 5.4 and its discussion in the text. Suppose that the same randomly selected person as in Table 5.4 gets re-tested after the first test result was positive, and on the re-test, the result is negative. When taking into account the results of both tests, what is the probability that the person has the disease? Hint: For the prior probability of the re-test, use the posterior computed from the Table 5.4. Retain as many decimal places as possible, as rounding can have a surprisingly big effect on the results. One way to avoid unnecessary rounding is to do the calculations in R."
   ]
  },
  {
   "cell_type": "code",
   "execution_count": 19,
   "metadata": {},
   "outputs": [],
   "source": [
    "p_disease = 0.001\n",
    "p_no_disease = 1 - p_disease\n",
    "\n",
    "p_positive_given_disease = 0.99\n",
    "p_negative_given_disease = 1 - p_positive_given_disease\n",
    "p_positive_given_no_disease = 0.05\n",
    "p_negative_given_no_disease = 1 - p_positive_given_no_disease\n",
    "\n",
    "#TODO: Do it in Latex\n",
    "p_disease_given_positive = (p_positive_given_disease * p_disease) / (p_positive_given_disease * p_disease + p_positive_given_no_disease * p_no_disease) "
   ]
  },
  {
   "cell_type": "code",
   "execution_count": 3,
   "metadata": {},
   "outputs": [
    {
     "data": {
      "text/plain": [
       "0.019434628975265017"
      ]
     },
     "execution_count": 3,
     "metadata": {},
     "output_type": "execute_result"
    }
   ],
   "source": [
    "p_disease_given_positive"
   ]
  },
  {
   "cell_type": "code",
   "execution_count": 4,
   "metadata": {},
   "outputs": [],
   "source": [
    "p_not_positive_given_disease = 1 - p_positive_given_disease\n",
    "p_no_disease_given_positive = 1 - p_disease_given_positive"
   ]
  },
  {
   "cell_type": "code",
   "execution_count": 5,
   "metadata": {},
   "outputs": [],
   "source": [
    "#TODO: Do it in Latex\n",
    "numerator = p_not_positive_given_disease * p_disease_given_positive\n",
    "denominator = (p_not_positive_given_disease * p_disease_given_positive) + (p_positive_given_disease * p_no_disease_given_positive)\n",
    "p_disease_given_positive_and_negative = numerator / denominator"
   ]
  },
  {
   "cell_type": "code",
   "execution_count": 6,
   "metadata": {},
   "outputs": [
    {
     "data": {
      "text/plain": [
       "0.00020016012810248216"
      ]
     },
     "execution_count": 6,
     "metadata": {},
     "output_type": "execute_result"
    }
   ],
   "source": [
    "p_disease_given_positive_and_negative"
   ]
  },
  {
   "cell_type": "markdown",
   "metadata": {},
   "source": [
    "## Exercise 2\n",
    "**Purpose: Getting an intuition for the previous results by using “natural frequency” and “Markov” representations**\n",
    "**(A)** Suppose that the population consists of 100,000 people. Compute how many people would be expected to fall into each cell of Table 5.4. To compute the expected frequency of people in a cell, just multiply the cell probability by the size of the population. To get you started, a few of the cells of the frequency table are filled in here. Notice the frequencies on the lower margin of the table. They indicate that out of 100,000 people, only 100 have the disease, while 99,900 do not have the disease. These marginal frequencies instantiate the prior probability that p(θ = ⌢ ̈ ) = 0.001. Notice also the cell frequencies in the column θ = ⌢ ̈ , which indicate that of 100 people with the disease, 99 have a positive test result and 1 has a negative test result. These cell frequencies instantiate the hit rate of 0.99. Your job for this part of the exercise is to fill in the frequencies of the remaining cells of the table."
   ]
  },
  {
   "cell_type": "code",
   "execution_count": 24,
   "metadata": {},
   "outputs": [],
   "source": [
    "p_disease = 0.001\n",
    "p_no_disease = 1 - p_disease\n",
    "\n",
    "p_positive_joint_disease = p_positive_given_disease * p_disease\n",
    "p_negative_joint_disease = p_negative_given_disease * p_disease\n",
    "\n",
    "p_positive_joint_no_disease = p_positive_given_no_disease * p_no_disease\n",
    "p_negative_joint_no_disease = p_negative_given_no_disease * p_no_disease\n",
    "\n",
    "p_positive = p_positive_joint_disease + p_positive_joint_no_disease\n",
    "p_negative = p_negative_joint_disease + p_negative_joint_no_disease"
   ]
  },
  {
   "cell_type": "code",
   "execution_count": 25,
   "metadata": {},
   "outputs": [
    {
     "data": {
      "text/html": [
       "<div>\n",
       "<style scoped>\n",
       "    .dataframe tbody tr th:only-of-type {\n",
       "        vertical-align: middle;\n",
       "    }\n",
       "\n",
       "    .dataframe tbody tr th {\n",
       "        vertical-align: top;\n",
       "    }\n",
       "\n",
       "    .dataframe thead th {\n",
       "        text-align: right;\n",
       "    }\n",
       "</style>\n",
       "<table border=\"1\" class=\"dataframe\">\n",
       "  <thead>\n",
       "    <tr style=\"text-align: right;\">\n",
       "      <th></th>\n",
       "      <th>disease</th>\n",
       "      <th>no_disease</th>\n",
       "      <th>marginal_diagnostics</th>\n",
       "    </tr>\n",
       "  </thead>\n",
       "  <tbody>\n",
       "    <tr>\n",
       "      <td>positive_diagnostic</td>\n",
       "      <td>99.0</td>\n",
       "      <td>4995.0</td>\n",
       "      <td>5094.0</td>\n",
       "    </tr>\n",
       "    <tr>\n",
       "      <td>negative_diagnostic</td>\n",
       "      <td>1.0</td>\n",
       "      <td>94905.0</td>\n",
       "      <td>94906.0</td>\n",
       "    </tr>\n",
       "    <tr>\n",
       "      <td>marginal_disease</td>\n",
       "      <td>100.0</td>\n",
       "      <td>99900.0</td>\n",
       "      <td>100000.0</td>\n",
       "    </tr>\n",
       "  </tbody>\n",
       "</table>\n",
       "</div>"
      ],
      "text/plain": [
       "                     disease  no_disease  marginal_diagnostics\n",
       "positive_diagnostic     99.0      4995.0                5094.0\n",
       "negative_diagnostic      1.0     94905.0               94906.0\n",
       "marginal_disease       100.0     99900.0              100000.0"
      ]
     },
     "execution_count": 25,
     "metadata": {},
     "output_type": "execute_result"
    }
   ],
   "source": [
    "p_diagnostic_joint_condition = pd.DataFrame({\n",
    "    \"disease\": [p_positive_joint_disease, p_negative_joint_disase, p_disease],\n",
    "    \"no_disease\": [p_positive_joint_no_disease, p_negative_joint_no_disease, p_no_disease],\n",
    "    \"marginal_diagnostics\": [p_positive, p_negative, 1]\n",
    "}, index=[\"positive_diagnostic\", \"negative_diagnostic\", \"marginal_disease\"])\n",
    "\n",
    "p_diagnostic_joint_condition * 100_000"
   ]
  }
 ],
 "metadata": {
  "kernelspec": {
   "display_name": "Python 3",
   "language": "python",
   "name": "python3"
  },
  "language_info": {
   "codemirror_mode": {
    "name": "ipython",
    "version": 3
   },
   "file_extension": ".py",
   "mimetype": "text/x-python",
   "name": "python",
   "nbconvert_exporter": "python",
   "pygments_lexer": "ipython3",
   "version": "3.7.4"
  }
 },
 "nbformat": 4,
 "nbformat_minor": 4
}
