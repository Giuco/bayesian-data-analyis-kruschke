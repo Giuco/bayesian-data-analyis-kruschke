{
 "cells": [
  {
   "cell_type": "code",
   "execution_count": 2,
   "metadata": {},
   "outputs": [],
   "source": [
    "from matplotlib import pyplot as plt"
   ]
  },
  {
   "cell_type": "markdown",
   "metadata": {},
   "source": [
    "## Exercise 1"
   ]
  },
  {
   "cell_type": "markdown",
   "metadata": {},
   "source": [
    "### Question"
   ]
  },
  {
   "cell_type": "markdown",
   "metadata": {},
   "source": [
    "**Purpose: To get you actively manipulating mathematical models of probabilities.**\n",
    "\n",
    "Suppose we have a four-sided die from a board game. On a tetrahedral die, each face is an equilateral triangle. When you roll the die, it lands with one face down and the other three faces visible as a three-sided pyramid. The faces are numbered 1-4, with the value of the bottom face printed (as clustered dots) at the bottom edges of all three visible faces. Denote the value of the bottom face as x. Consider the following three mathematical descriptions of the probabilities of x. Model A: p(x) = 1/4. Model B: p(x) = x/10. Model C: p(x) = 12/(25x). For each model, determine the value of p(x) for each value of x. Describe in words what kind of bias (or lack of bias) is expressed by each model."
   ]
  },
  {
   "cell_type": "markdown",
   "metadata": {},
   "source": [
    "### Answer"
   ]
  },
  {
   "cell_type": "code",
   "execution_count": 3,
   "metadata": {},
   "outputs": [],
   "source": [
    "# Probabilities descriptions\n",
    "def model_a(x):\n",
    "    return 1/4\n",
    "\n",
    "\n",
    "def model_b(x):\n",
    "    return x/10\n",
    "\n",
    "\n",
    "def model_c(x):\n",
    "    return 12/(25*x)"
   ]
  },
  {
   "cell_type": "code",
   "execution_count": 4,
   "metadata": {},
   "outputs": [],
   "source": [
    "dice_possibilites = list(range(1, 5))\n",
    "\n",
    "model_a_probs = [model_a(x) for x in dice_possibilites]\n",
    "model_b_probs = [model_b(x) for x in dice_possibilites]\n",
    "model_c_probs = [model_c(x) for x in dice_possibilites]\n",
    "\n",
    "assert sum(model_a_probs) == sum(model_b_probs) == sum(model_c_probs) == 1"
   ]
  },
  {
   "cell_type": "code",
   "execution_count": 5,
   "metadata": {},
   "outputs": [
    {
     "data": {
      "text/plain": [
       "Text(0.5, 1.0, 'Model C')"
      ]
     },
     "execution_count": 5,
     "metadata": {},
     "output_type": "execute_result"
    },
    {
     "data": {
      "image/png": "[encoded data removed]",
      "text/plain": [
       "<Figure size 432x504 with 3 Axes>"
      ]
     },
     "metadata": {
      "needs_background": "light"
     },
     "output_type": "display_data"
    }
   ],
   "source": [
    "fig, axs = plt.subplots(3, sharex=True, sharey=True, figsize=(6, 7))\n",
    "plt.ylim((0, 1))\n",
    "\n",
    "fig.suptitle(\"Distribution of Probabilities\")\n",
    "\n",
    "axs[0].bar(dice_possibilites, height=model_a_probs)\n",
    "axs[1].bar(dice_possibilites, height=model_b_probs)\n",
    "axs[2].bar(dice_possibilites, height=model_c_probs)\n",
    "\n",
    "axs[0].set_title(\"Model A\")\n",
    "axs[1].set_title(\"Model B\")\n",
    "axs[2].set_title(\"Model C\")"
   ]
  },
  {
   "cell_type": "markdown",
   "metadata": {},
   "source": [
    "Model A is the most representative model because is the only one that has a uniform distribution. One of the problems with the other models is that they consider the side of the die as relevant to its probability, and this is not true for a fair die.\n",
    "\n",
    "Model B has a bias towards the high numbers and Model C the opposite"
   ]
  },
  {
   "cell_type": "markdown",
   "metadata": {},
   "source": [
    "### Official Answer"
   ]
  },
  {
   "cell_type": "markdown",
   "metadata": {},
   "source": [
    "**Model A:**\n",
    "\n",
    "p(x=1) = 1/4,\n",
    "\n",
    "p(x=2) = 1/4,\n",
    "\n",
    "p(x=3) = 1/4,\n",
    "\n",
    "p(x=4) = 1/4.\n",
    "\n",
    "*(Notice that the probabilities sum to 1.0.) This model has no bias in the sense that all values of x are equally likely.*\n",
    "\n",
    "---\n",
    "**Model B:**\n",
    "\n",
    "p(x=1) = 1/10,\n",
    "\n",
    "p(x=2) = 2/10,\n",
    "\n",
    "p(x=3) = 3/10,\n",
    "\n",
    "p(x=4) = 4/10.\n",
    "\n",
    "*(Notice that the probabilities sum to 1.0.) This model is biased toward higher values of x.*\n",
    "\n",
    "---\n",
    "**Model C:**\n",
    "\n",
    "p(x=1) = 12/25 = 144/300,\n",
    "\n",
    "p(x=2) = 12/50 = 72/300,\n",
    "\n",
    "p(x=3) = 12/75 = 48/300,\n",
    "\n",
    "p(x=4) = 12/100 = 36/300.\n",
    "\n",
    "*(Notice that the probabilities sum to 1.0.) This model is biased toward lower values of x.*"
   ]
  },
  {
   "cell_type": "markdown",
   "metadata": {},
   "source": [
    "## Exercise 2"
   ]
  },
  {
   "cell_type": "markdown",
   "metadata": {},
   "source": [
    "**Purpose: To get you actively thinking about how data cause credibilities to shift.]**\n",
    "\n",
    "Suppose we have the tetrahedral die introduced in the previous exercise, along with the three candidate models of the die’s probabilities. Suppose that initially, we are not sure what to believe about the die. On the one hand, the die might be fair, with each face landing with the same probability. On the other hand, the die might be biased, with the faces that have more dots landing down more often (because the dots are created by embedding heavy jewels in the die, so that the sides with more dots are more likely to land on the bottom). On yet another hand, the die might be biased such that more dots on a face make it less likely to land down (because maybe the dots are bouncy rubber or protrude from the surface). So, initially, our beliefs about the three models can be described as p(A) = p(B) = p(C) = 1/3. Now we roll the die 100 times and find these results: #1’s = 25, #2’s = 25, #3’s = 25, #4’s = 25. Do these data change our beliefs about the models? Which model now seems most likely? Suppose when we rolled the die 100 times we found these results: #1’s = 48, #2’s = 24, #3’s = 16, #4’s = 12. Now which model seems most likely?"
   ]
  },
  {
   "cell_type": "code",
   "execution_count": 9,
   "metadata": {},
   "outputs": [],
   "source": [
    "observation_1 = [0.25, 0.25, 0.25, 0.25]\n",
    "observation_2 = [0.48, 0.24, 0.16, 0.12]"
   ]
  },
  {
   "cell_type": "code",
   "execution_count": 18,
   "metadata": {},
   "outputs": [
    {
     "data": {
      "text/plain": [
       "<matplotlib.legend.Legend at 0x118369150>"
      ]
     },
     "execution_count": 18,
     "metadata": {},
     "output_type": "execute_result"
    },
    {
     "data": {
      "image/png": "[encoded data removed]",
      "text/plain": [
       "<Figure size 432x504 with 3 Axes>"
      ]
     },
     "metadata": {
      "needs_background": "light"
     },
     "output_type": "display_data"
    }
   ],
   "source": [
    "fig, axs = plt.subplots(3, sharex=True, sharey=True, figsize=(6, 7))\n",
    "plt.ylim((0, 1))\n",
    "\n",
    "fig.suptitle(\"Distribution of Probabilities\")\n",
    "\n",
    "axs[0].bar(dice_possibilites, height=model_a_probs)\n",
    "axs[1].bar(dice_possibilites, height=model_b_probs)\n",
    "axs[2].bar(dice_possibilites, height=model_c_probs)\n",
    "\n",
    "axs[0].set_title(\"Model A\")\n",
    "axs[1].set_title(\"Model B\")\n",
    "axs[2].set_title(\"Model C\")\n",
    "\n",
    "for ax in axs:\n",
    "    ax.plot(dice_possibilites, observation_1, \"r--\")\n",
    "    ax.plot(dice_possibilites, observation_2, \"b-\")\n",
    "\n",
    "fig.legend([\"Observation 1\", \"Observation 2\", \"Model\"])"
   ]
  },
  {
   "cell_type": "markdown",
   "metadata": {},
   "source": [
    "For **observation 1** the most credible model is **model A**. For **observation 2** the mos credible model is **model C**"
   ]
  },
  {
   "cell_type": "markdown",
   "metadata": {},
   "source": [
    "### Official Anwer"
   ]
  },
  {
   "cell_type": "markdown",
   "metadata": {},
   "source": [
    "When the data show 25 of each face, then we change our beliefs such that Model A becomes more credible, because the data are most consistent with Model A.\n",
    "\n",
    "When the data show 48 1’s, 24 2’s, etc., then we change our beliefs such that Model C becomes more credible, because the data are most consistent with Model C. Moreover, Model B becomes least credible, because its predictions are least consistent with the data."
   ]
  }
 ],
 "metadata": {
  "kernelspec": {
   "display_name": "Python 3",
   "language": "python",
   "name": "python3"
  },
  "language_info": {
   "codemirror_mode": {
    "name": "ipython",
    "version": 3
   },
   "file_extension": ".py",
   "mimetype": "text/x-python",
   "name": "python",
   "nbconvert_exporter": "python",
   "pygments_lexer": "ipython3",
   "version": "3.7.4"
  }
 },
 "nbformat": 4,
 "nbformat_minor": 4
}
